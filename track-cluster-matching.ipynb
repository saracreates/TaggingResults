{
 "cells": [
  {
   "cell_type": "markdown",
   "metadata": {},
   "source": [
    "# Track-cluster-matching \n",
    "\n",
    "So here are the results from running the the `analysis.sub` file in `src` but using `create_jet_based_tree.py` with the 3rd argument `True` that will then artificially do track-cluster matching for neutral pfos which have an charged MC. If there is any track associated to the MC I will \"add\" it to the pfo aka modifying the `type` and adding track information (like SIP, cov matrix..). "
   ]
  },
  {
   "cell_type": "markdown",
   "metadata": {},
   "source": []
  },
  {
   "cell_type": "code",
   "execution_count": 1,
   "metadata": {},
   "outputs": [],
   "source": [
    "save_status = False"
   ]
  },
  {
   "cell_type": "code",
   "execution_count": 2,
   "metadata": {},
   "outputs": [],
   "source": [
    "import uproot \n",
    "import numpy as np\n",
    "import matplotlib.pyplot as plt\n",
    "\n",
    "%load_ext autoreload\n",
    "%autoreload 2"
   ]
  },
  {
   "cell_type": "code",
   "execution_count": 3,
   "metadata": {},
   "outputs": [],
   "source": [
    "def load_data(file_name):\n",
    "    file = uproot.open(file_name)\n",
    "    tree = file['tree;1']\n",
    "    data = tree.arrays(library=\"np\", entry_start=0, entry_stop=25000) #entry_stop=1000000)\n",
    "    return data"
   ]
  },
  {
   "cell_type": "code",
   "execution_count": 4,
   "metadata": {},
   "outputs": [],
   "source": [
    "path= \"/eos/experiment/fcc/ee/datasets/CLD_fullsim_tagging_input_artif-track-clusster-matching/hadded\"\n",
    "dic = {\n",
    "    \"uu\": np.array([]),\n",
    "    \"dd\": np.array([]),\n",
    "    \"ss\": np.array([]),\n",
    "    \"cc\": np.array([]),\n",
    "    \"bb\": np.array([]),\n",
    "    \"gg\": np.array([]),\n",
    "    \"tautau\": np.array([])\n",
    "}\n",
    "\n",
    "for process in dic.keys():\n",
    "    data = load_data(f\"{path}/H{process}.root\")\n",
    "    dic[process] = data"
   ]
  },
  {
   "cell_type": "code",
   "execution_count": 5,
   "metadata": {},
   "outputs": [
    {
     "data": {
      "text/plain": [
       "dict_keys(['event_number', 'n_hit', 'n_part', 'jet_p', 'jet_e', 'jet_mass', 'jet_nconst', 'jet_npfcand', 'jet_theta', 'jet_phi', 'recojet_isG', 'recojet_isU', 'recojet_isD', 'recojet_isS', 'recojet_isC', 'recojet_isB', 'recojet_isTAU', 'pfcand_e', 'pfcand_p', 'pfcand_theta', 'pfcand_phi', 'pfcand_type', 'pfcand_charge', 'pfcand_isEl', 'pfcand_isMu', 'pfcand_isGamma', 'pfcand_isNeutralHad', 'pfcand_isChargedHad', 'jet_nmu', 'jet_nel', 'jet_ngamma', 'jet_nnhad', 'jet_nchad', 'pfcand_erel_log', 'pfcand_phirel', 'pfcand_thetarel', 'pfcand_dptdpt', 'pfcand_detadeta', 'pfcand_dphidphi', 'pfcand_dxydxy', 'pfcand_dzdz', 'pfcand_dxydz', 'pfcand_dphidxy', 'pfcand_dlambdadz', 'pfcand_dxyc', 'pfcand_dxyctgtheta', 'pfcand_phic', 'pfcand_phidz', 'pfcand_phictgtheta', 'pfcand_cdz', 'pfcand_cctgtheta', 'pfcand_dxy', 'pfcand_dz', 'pfcand_btagSip2dVal', 'pfcand_btagSip2dSig', 'pfcand_btagSip3dVal', 'pfcand_btagSip3dSig', 'pfcand_btagJetDistVal', 'pfcand_btagJetDistSig', 'pfcand_mtof', 'pfcand_dndx', 'pfcand_MCPID', 'pfcand_V0_x', 'pfcand_V0_y', 'pfcand_V0_z', 'pfcand_V0_M', 'pfcand_V0_id', 'pfcand_SV_x', 'pfcand_SV_y', 'pfcand_SV_z', 'pfcand_SV_M', 'pfcand_SV_id', 'pfcand_MC_phi', 'pfcand_MC_phirel', 'pfcand_parent_ID', 'pfcand_parent_index', 'pfcand_track_cluster_matching', 'pfcand_nMCtrackerhits'])"
      ]
     },
     "execution_count": 5,
     "metadata": {},
     "output_type": "execute_result"
    }
   ],
   "source": [
    "dic[\"bb\"].keys()"
   ]
  },
  {
   "cell_type": "markdown",
   "metadata": {},
   "source": [
    "Now lets consider the plots - what do I need to do? \n",
    "\n",
    "\n",
    "so I have the key `pfcand_track_cluster_matching` which is either \n",
    "- 0: no correction (neutral)\n",
    "- 1: correction (neutral)\n",
    "- 2: couldn't apply correction (neutral)\n",
    "- 3: charged (not applicable)\n",
    "\n",
    "\n",
    "So, lets look at all particles that are not 3. And then plots 0,1,2, as a fraction of all over momentum and theta for different H channels. "
   ]
  },
  {
   "cell_type": "code",
   "execution_count": 6,
   "metadata": {},
   "outputs": [],
   "source": [
    "def return_i_neutrals(Htype, i, obs):\n",
    "    \"\"\"find partilces that have either 0,1,2 for pfcand_track_cluster_matching. Obs could be theta or momentum\"\"\"\n",
    "    index = np.where(np.concatenate(dic[Htype][\"pfcand_track_cluster_matching\"]) == i)\n",
    "    return np.concatenate(dic[Htype][obs])[index]"
   ]
  },
  {
   "cell_type": "code",
   "execution_count": 7,
   "metadata": {},
   "outputs": [],
   "source": [
    "# Normalize function\n",
    "def normalize_hist(data, ref_counts, bins, range):\n",
    "    counts, _ = np.histogram(data, bins=bins, range=range, density=False)\n",
    "    # Avoid division by zero by using np.where\n",
    "    normalized_counts = np.where(ref_counts > 0, counts / ref_counts, 0)\n",
    "    return normalized_counts"
   ]
  },
  {
   "cell_type": "code",
   "execution_count": null,
   "metadata": {},
   "outputs": [],
   "source": [
    "def plot_matching(Htype, save=False):\n",
    "    fig, axs = plt.subplots(1, 2, figsize=(15, 5))\n",
    "\n",
    "    ref_counts, bin_edges = np.histogram(np.concatenate(dic[Htype][obs])[i_ptype[i]], range=ranges[j], bins=bins, density=False)\n",
    "    # plot\n",
    "            obs_data = np.concatenate(dic[Htype][obs])[ind_interest]\n",
    "            normalized_obs_data = normalize_hist(obs_data, ref_counts, bins, range=ranges[j])\n",
    "            bin_centers = (bin_edges[:-1] + bin_edges[1:]) / 2  # Calculate bin centers for plotting\n",
    "    \n",
    "    if save:\n",
    "        plt.savefig(f\"./hist-matching/matching_{Htype}.pdf\")\n",
    "    plt.show()"
   ]
  }
 ],
 "metadata": {
  "kernelspec": {
   "display_name": "myvenv",
   "language": "python",
   "name": "python3"
  },
  "language_info": {
   "codemirror_mode": {
    "name": "ipython",
    "version": 3
   },
   "file_extension": ".py",
   "mimetype": "text/x-python",
   "name": "python",
   "nbconvert_exporter": "python",
   "pygments_lexer": "ipython3",
   "version": "3.9.18"
  }
 },
 "nbformat": 4,
 "nbformat_minor": 2
}
