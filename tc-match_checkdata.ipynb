{
 "cells": [
  {
   "cell_type": "markdown",
   "metadata": {},
   "source": [
    "Dolores tried to start a training for me. But it seems like the data has `NaN`s. So let's find out what is going wrong. "
   ]
  },
  {
   "cell_type": "code",
   "execution_count": 1,
   "metadata": {},
   "outputs": [],
   "source": [
    "import uproot \n",
    "import numpy as np\n",
    "import matplotlib.pyplot as plt\n",
    "\n",
    "%load_ext autoreload\n",
    "%autoreload 2"
   ]
  },
  {
   "cell_type": "code",
   "execution_count": 32,
   "metadata": {},
   "outputs": [],
   "source": [
    "def load_data(file_name):\n",
    "    file = uproot.open(file_name)\n",
    "    tree = file['tree;1']\n",
    "    data = tree.arrays(library=\"np\", entry_start=0, entry_stop=100000) #entry_stop=1000000)\n",
    "    return data"
   ]
  },
  {
   "cell_type": "code",
   "execution_count": 33,
   "metadata": {},
   "outputs": [],
   "source": [
    "# ok until 300000"
   ]
  },
  {
   "cell_type": "code",
   "execution_count": 34,
   "metadata": {},
   "outputs": [],
   "source": [
    "path= \"/eos/experiment/fcc/ee/datasets/CLD_fullsim_tagging_tc-match\"\n",
    "\n",
    "#path = \"/afs/cern.ch/work/s/saaumill/public/final-fullsim-inputNN\"\n",
    "path= \"/eos/experiment/fcc/ee/datasets/CLD_fullsim_tagging_input/hadded\"\n",
    "dic = {\n",
    "    \"uu\": np.array([]),\n",
    "    \"dd\": np.array([]),\n",
    "    \"cc\": np.array([]),\n",
    "    \"ss\": np.array([]),\n",
    "    \"bb\": np.array([]),\n",
    "    \"gg\": np.array([]),\n",
    "    \"tautau\": np.array([])\n",
    "}\n",
    "\n",
    "for process in dic.keys():\n",
    "    data = load_data(f\"{path}/H{process}.root\")\n",
    "    dic[process] = data\n",
    "    \n"
   ]
  },
  {
   "cell_type": "code",
   "execution_count": 35,
   "metadata": {},
   "outputs": [],
   "source": [
    "training_keys = [\"pfcand_erel_log\", \"pfcand_thetarel\", \"pfcand_phirel\", \"pfcand_dptdpt\", \"pfcand_detadeta\", \"pfcand_dphidphi\", \"pfcand_dxydxy\", \"pfcand_dzdz\", \"pfcand_dxydz\", \"pfcand_dphidxy\", \"pfcand_dlambdadz\", \"pfcand_dxyc\", \"pfcand_dxyctgtheta\", \"pfcand_phic\", \"pfcand_phidz\", \"pfcand_phictgtheta\", \"pfcand_cdz\", \"pfcand_cctgtheta\", \"pfcand_mtof\", \"pfcand_dndx\", \"pfcand_charge\", \"pfcand_isMu\", \"pfcand_isEl\", \"pfcand_isChargedHad\", \"pfcand_isGamma\", \"pfcand_isNeutralHad\", \"pfcand_dxy\", \"pfcand_dz\", \"pfcand_btagSip2dVal\", \"pfcand_btagSip2dSig\", \"pfcand_btagSip3dVal\", \"pfcand_btagSip3dSig\", \"pfcand_btagJetDistVal\", \"pfcand_btagJetDistSig\", \"pfcand_type\"]"
   ]
  },
  {
   "cell_type": "code",
   "execution_count": 36,
   "metadata": {},
   "outputs": [],
   "source": [
    "for Hkey in dic.keys():\n",
    "    data = dic[Hkey]\n",
    "    for key in training_keys:\n",
    "        d = np.concatenate(data[key])\n",
    "        nans = np.any(np.isnan(d))\n",
    "        if nans:\n",
    "            print(f\"{Hkey} {key} has nans\")\n",
    "        "
   ]
  },
  {
   "cell_type": "markdown",
   "metadata": {},
   "source": [
    "between 300k and 600k:\n",
    "- gg pfcand_btagSip3dSig has nans\n",
    "- gg pfcand_btagJetDistSig has nans\n",
    "\n",
    "From training:\n",
    "- Found NaN in pfcand_btagSip2dSig"
   ]
  },
  {
   "cell_type": "code",
   "execution_count": null,
   "metadata": {},
   "outputs": [],
   "source": []
  },
  {
   "cell_type": "code",
   "execution_count": null,
   "metadata": {},
   "outputs": [],
   "source": []
  }
 ],
 "metadata": {
  "kernelspec": {
   "display_name": "myvenv",
   "language": "python",
   "name": "python3"
  },
  "language_info": {
   "codemirror_mode": {
    "name": "ipython",
    "version": 3
   },
   "file_extension": ".py",
   "mimetype": "text/x-python",
   "name": "python",
   "nbconvert_exporter": "python",
   "pygments_lexer": "ipython3",
   "version": "3.9.18"
  }
 },
 "nbformat": 4,
 "nbformat_minor": 2
}
